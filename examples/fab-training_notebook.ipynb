{
 "cells": [
  {
   "cell_type": "code",
   "execution_count": null,
   "id": "ee09d8ac",
   "metadata": {},
   "outputs": [],
   "source": [
    "import os\n",
    "os.environ[\"CUDA_VISIBLE_DEVICES\"] = \"1\"\n",
    "!echo $CUDA_VISIBLE_DEVICES"
   ]
  },
  {
   "cell_type": "code",
   "execution_count": null,
   "id": "5e316e69",
   "metadata": {},
   "outputs": [],
   "source": [
    "!nvidia-smi"
   ]
  },
  {
   "cell_type": "code",
   "execution_count": null,
   "id": "363a92b4",
   "metadata": {},
   "outputs": [],
   "source": [
    "import sys\n",
    "sys.path.insert(0, \"../\")\n",
    "\n",
    "import os\n",
    "os.chdir(\"../\")"
   ]
  },
  {
   "cell_type": "code",
   "execution_count": null,
   "id": "7c15f475",
   "metadata": {},
   "outputs": [],
   "source": [
    "problems = [\"dw4\", \"lj13\", \"qm9\"]\n",
    "problem = problems[0]\n",
    "if problem == \"dw4\":\n",
    "    dim = 2\n",
    "    n_nodes = 4\n",
    "    from examples.dw4_fab import *\n",
    "    import target.double_well as dw4\n",
    "    target_log_prob_fn = dw4.log_prob_fn\n",
    "    load_dataset = load_dataset_original\n",
    "# elif problem == \"lj13\":\n",
    "#     dim = 3\n",
    "#     n_nodes = 13\n",
    "#     from examples.lj13 import *\n",
    "#     import target.leonard_jones as lj13\n",
    "#     target_log_prob_fn = lj13.log_prob_fn\n",
    "# else:\n",
    "#     dim = 3\n",
    "#     n_nodes = 19\n",
    "#     from examples.qm9 import *\n",
    "#     target_log_prob_fn = None"
   ]
  },
  {
   "cell_type": "code",
   "execution_count": null,
   "id": "52f414de",
   "metadata": {
    "scrolled": true
   },
   "outputs": [],
   "source": [
    "import yaml\n",
    "import jax\n",
    "import matplotlib.pyplot as plt"
   ]
  },
  {
   "cell_type": "code",
   "execution_count": null,
   "id": "a597767b",
   "metadata": {},
   "outputs": [],
   "source": [
    "USE_64_BIT = False\n",
    "if USE_64_BIT:\n",
    "    from jax.config import config\n",
    "    config.update(\"jax_enable_x64\", True)"
   ]
  },
  {
   "cell_type": "code",
   "execution_count": null,
   "id": "e53da866",
   "metadata": {},
   "outputs": [],
   "source": [
    "cfg = DictConfig(yaml.safe_load(open(f\"examples/config/{problem}_fab.yaml\")))\n",
    "cfg"
   ]
  },
  {
   "cell_type": "markdown",
   "id": "d1031ce9",
   "metadata": {},
   "source": [
    "# Train"
   ]
  },
  {
   "cell_type": "code",
   "execution_count": null,
   "id": "971a57f6",
   "metadata": {},
   "outputs": [],
   "source": [
    "cfg.training.save = False\n",
    "cfg.logger = DictConfig({\"list_logger\": None})\n",
    "cfg.flow.act_norm = False"
   ]
  },
  {
   "cell_type": "code",
   "execution_count": null,
   "id": "ee62aa56",
   "metadata": {},
   "outputs": [],
   "source": [
    "# Flow setup\n",
    "cfg.flow.n_aug = 1\n",
    "cfg.flow.type = 'spherical'\n",
    "cfg.flow.n_layers = 8\n",
    "\n",
    "# AIS setup\n",
    "cfg.fab.transition_operator.metropolis.init_step_size = 0.2"
   ]
  },
  {
   "cell_type": "code",
   "execution_count": null,
   "id": "4b6b56a8",
   "metadata": {},
   "outputs": [],
   "source": [
    "# Training setup.\n",
    "cfg.training.optimizer.use_schedule = False\n",
    "cfg.training.optimizer.init_lr = 3e-4\n",
    "cfg.training.optimizer.max_global_norm = 1.0\n",
    "cfg.training.n_epoch = int(10000)\n",
    "cfg.training.batch_size = 100"
   ]
  },
  {
   "cell_type": "code",
   "execution_count": null,
   "id": "3923f98a",
   "metadata": {
    "scrolled": false
   },
   "outputs": [],
   "source": [
    "experiment_config = create_train_config(cfg, dim=dim, n_nodes=n_nodes, target_log_p_x_fn=log_prob_fn,\n",
    "                                        load_dataset=load_dataset)\n",
    "\n",
    "logger, state = train(experiment_config)"
   ]
  },
  {
   "cell_type": "markdown",
   "id": "67fb9c95",
   "metadata": {},
   "source": [
    "# "
   ]
  }
 ],
 "metadata": {
  "kernelspec": {
   "display_name": "Python 3 (ipykernel)",
   "language": "python",
   "name": "python3"
  },
  "language_info": {
   "codemirror_mode": {
    "name": "ipython",
    "version": 3
   },
   "file_extension": ".py",
   "mimetype": "text/x-python",
   "name": "python",
   "nbconvert_exporter": "python",
   "pygments_lexer": "ipython3",
   "version": "3.9.16"
  }
 },
 "nbformat": 4,
 "nbformat_minor": 5
}
